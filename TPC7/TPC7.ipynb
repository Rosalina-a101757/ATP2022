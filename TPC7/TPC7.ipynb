{
 "cells": [
  {
   "cell_type": "code",
   "execution_count": null,
   "metadata": {},
   "outputs": [],
   "source": [
    "import TPC7\n",
    "dados = TPC7.leFicheiro()\n",
    "distribCursos = TPC7.distribCursos(dados)\n",
    "media = TPC7.media(dados)\n",
    "escalao = TPC7.escaloes(dados)\n",
    "\n",
    "\n",
    "menu = (\"\"\"\n",
    "(1) Ler base de dados\n",
    "(2) Ver tabela com distribuição dos alunos por curso\n",
    "(3) Ver tabela com distribuição dos alunos por escalão\n",
    "(4) Ver grafico com distribuição dos alunos por curso\n",
    "(5) Ver grafico com distribuição dos alunos por escalão\n",
    "(0) Sair do programa\n",
    "\"\"\")\n",
    "print(menu)\n",
    "escolha=1\n",
    "while escolha != 0:\n",
    "    escolha = int(input(\"----> \"))\n",
    "    if escolha == 1:\n",
    "        print(dados)\n",
    "        print (menu)\n",
    "        print(\"\")\n",
    "    if escolha == 2:\n",
    "        print(''' DISTRUBUIÇÃO POR CURSOS\n",
    "         ''')\n",
    "        TPC7.tabela(distribCursos)\n",
    "        print (menu)\n",
    "        print(\"\")\n",
    "    if escolha == 3:\n",
    "        print(''' DISTRUBUIÇÃO POR ESCALÕES\n",
    "         ''')\n",
    "        TPC7.tabela(distribEscalao)\n",
    "        print (menu)\n",
    "        print(\"\")\n",
    "    if escolha == 4:\n",
    "        print(''' DISTRUBUIÇÃO POR CURSOS\n",
    "         ''')\n",
    "        distribEscalao = TPC7.distribEscalão(dados)\n",
    "        TPC7.grafico(distribCursos)\n",
    "        print (menu)\n",
    "        print(\"\")\n",
    "    if escolha == 5:\n",
    "        print(''' DISTRUBUIÇÃO POR ESCALÕES\n",
    "         ''')\n",
    "        TPC7.grafico(distribEscalao)\n",
    "        print (menu)\n",
    "        print(\"\")"
   ]
  }
 ],
 "metadata": {
  "kernelspec": {
   "display_name": "Python 3.10.8 64-bit",
   "language": "python",
   "name": "python3"
  },
  "language_info": {
   "name": "python",
   "version": "3.10.8"
  },
  "orig_nbformat": 4,
  "vscode": {
   "interpreter": {
    "hash": "9d28376b052a10b99dfbba71064da8bfb80fb5c0723e41f9bcf21cc7b2ec3364"
   }
  }
 },
 "nbformat": 4,
 "nbformat_minor": 2
}
